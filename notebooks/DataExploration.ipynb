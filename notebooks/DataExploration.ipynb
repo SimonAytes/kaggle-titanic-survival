{
 "cells": [
  {
   "cell_type": "markdown",
   "id": "b395b670-2b77-4bae-8a1c-ebe25e2c9758",
   "metadata": {},
   "source": [
    "# Kaggle ML Competiton Entry\n",
    "\n",
    "## Titanic Survivability Prediction\n",
    "\n",
    "----\n",
    "\n",
    "April 2022"
   ]
  },
  {
   "cell_type": "markdown",
   "id": "4e50ef78-ab0d-4bd3-9c12-91eaee8e8c26",
   "metadata": {
    "tags": []
   },
   "source": [
    "# 0. Configure environment"
   ]
  },
  {
   "cell_type": "markdown",
   "id": "fafbd3f5-6b4f-4711-9a47-55d5a3a61572",
   "metadata": {},
   "source": [
    "## 0.1 Import libraries"
   ]
  },
  {
   "cell_type": "code",
   "execution_count": 1,
   "id": "a0fb87f3-de80-4427-8a8b-f504ebc9e016",
   "metadata": {},
   "outputs": [],
   "source": [
    "# Data handling\n",
    "from sklearn.model_selection import train_test_split\n",
    "import pandas as pd\n",
    "import numpy as np\n",
    "import os\n",
    "\n",
    "# Models\n",
    "from sklearn.tree import DecisionTreeClassifier\n",
    "from sklearn.linear_model import LogisticRegression\n",
    "\n",
    "# Model evaluation\n",
    "from sklearn.preprocessing import MinMaxScaler\n",
    "from sklearn.metrics import classification_report\n",
    "from sklearn.metrics import confusion_matrix\n",
    "from sklearn.metrics import accuracy_score\n",
    "\n",
    "# Feature selection\n",
    "from sklearn.feature_selection import RFE\n",
    "\n",
    "# Visualization\n",
    "from sklearn.tree import plot_tree\n",
    "import seaborn as sns\n",
    "import matplotlib.pyplot as plt\n",
    "\n",
    "# Environment setup\n",
    "%matplotlib inline\n",
    "pd.set_option('display.max_columns', None)"
   ]
  },
  {
   "cell_type": "markdown",
   "id": "8c83b746-596e-46e2-b49a-d76c1ae1d6a5",
   "metadata": {},
   "source": [
    "## 0.2 Set data path"
   ]
  },
  {
   "cell_type": "code",
   "execution_count": 2,
   "id": "8038b174-d044-4d4e-8908-81df81f1b515",
   "metadata": {},
   "outputs": [],
   "source": [
    "data_path = \"/\".join(os.getcwd().split(\"/\")[:-1]) + \"/data/raw/\""
   ]
  },
  {
   "cell_type": "markdown",
   "id": "d1ce6101-ea0f-48ac-9c38-5f3cbab21add",
   "metadata": {},
   "source": [
    "## 0.3 Load data"
   ]
  },
  {
   "cell_type": "code",
   "execution_count": 3,
   "id": "8ca92d41-a43f-4d7f-aeb1-e5bccba1edc4",
   "metadata": {},
   "outputs": [],
   "source": [
    "titanic = pd.read_csv(f\"{data_path}train.csv\")"
   ]
  },
  {
   "cell_type": "markdown",
   "id": "695c4713-bbc1-41c3-a43e-d7aedd79e86b",
   "metadata": {},
   "source": [
    "# 1. Data Exploration\n",
    "\n",
    "----"
   ]
  },
  {
   "cell_type": "markdown",
   "id": "0eb6ab07-34c7-44ef-be8e-09e7da4220c9",
   "metadata": {},
   "source": [
    "## 1.1 Data fields\n",
    "\n",
    "`PassengerId` > Passenger ID\n",
    "\n",
    "`Survived` > 1 if the passenger survived, 0 if they did not\n",
    "\n",
    "`Pclass` > Ticket class (1 = 1st, 2 = 2nd, 3 = 3rd)\n",
    "\n",
    "`Name` > Name of passenger\n",
    "\n",
    "`Sex` > Sex of passenger\n",
    "\n",
    "`Age` > Age of passenger\n",
    "\n",
    "`SibSp` > Number of siblings / spouses aboard the Titanic\n",
    "\n",
    "`Parch` > Number of parents / children aboard the Titanic\n",
    "\n",
    "`Ticket` > Ticket Number\n",
    "\n",
    "`Fare` > Passenger fare\n",
    "\n",
    "`Cabin` > Cabin number\n",
    "\n",
    "`Embarked` > Port of embarkation (C = Cherbourg, Q = Queenstown, S = Southampton)\n"
   ]
  },
  {
   "cell_type": "markdown",
   "id": "c2bb334a-2201-435b-a621-3467033a09f8",
   "metadata": {},
   "source": [
    "## 1.2 Variable exploration"
   ]
  },
  {
   "cell_type": "code",
   "execution_count": 4,
   "id": "835f5417-3947-4135-a60d-75ac53f4fc12",
   "metadata": {},
   "outputs": [
    {
     "data": {
      "text/html": [
       "<div>\n",
       "<style scoped>\n",
       "    .dataframe tbody tr th:only-of-type {\n",
       "        vertical-align: middle;\n",
       "    }\n",
       "\n",
       "    .dataframe tbody tr th {\n",
       "        vertical-align: top;\n",
       "    }\n",
       "\n",
       "    .dataframe thead th {\n",
       "        text-align: right;\n",
       "    }\n",
       "</style>\n",
       "<table border=\"1\" class=\"dataframe\">\n",
       "  <thead>\n",
       "    <tr style=\"text-align: right;\">\n",
       "      <th></th>\n",
       "      <th>PassengerId</th>\n",
       "      <th>Survived</th>\n",
       "      <th>Pclass</th>\n",
       "      <th>Name</th>\n",
       "      <th>Sex</th>\n",
       "      <th>Age</th>\n",
       "      <th>SibSp</th>\n",
       "      <th>Parch</th>\n",
       "      <th>Ticket</th>\n",
       "      <th>Fare</th>\n",
       "      <th>Cabin</th>\n",
       "      <th>Embarked</th>\n",
       "    </tr>\n",
       "  </thead>\n",
       "  <tbody>\n",
       "    <tr>\n",
       "      <th>0</th>\n",
       "      <td>1</td>\n",
       "      <td>0</td>\n",
       "      <td>3</td>\n",
       "      <td>Braund, Mr. Owen Harris</td>\n",
       "      <td>male</td>\n",
       "      <td>22.0</td>\n",
       "      <td>1</td>\n",
       "      <td>0</td>\n",
       "      <td>A/5 21171</td>\n",
       "      <td>7.2500</td>\n",
       "      <td>NaN</td>\n",
       "      <td>S</td>\n",
       "    </tr>\n",
       "    <tr>\n",
       "      <th>1</th>\n",
       "      <td>2</td>\n",
       "      <td>1</td>\n",
       "      <td>1</td>\n",
       "      <td>Cumings, Mrs. John Bradley (Florence Briggs Th...</td>\n",
       "      <td>female</td>\n",
       "      <td>38.0</td>\n",
       "      <td>1</td>\n",
       "      <td>0</td>\n",
       "      <td>PC 17599</td>\n",
       "      <td>71.2833</td>\n",
       "      <td>C85</td>\n",
       "      <td>C</td>\n",
       "    </tr>\n",
       "    <tr>\n",
       "      <th>2</th>\n",
       "      <td>3</td>\n",
       "      <td>1</td>\n",
       "      <td>3</td>\n",
       "      <td>Heikkinen, Miss. Laina</td>\n",
       "      <td>female</td>\n",
       "      <td>26.0</td>\n",
       "      <td>0</td>\n",
       "      <td>0</td>\n",
       "      <td>STON/O2. 3101282</td>\n",
       "      <td>7.9250</td>\n",
       "      <td>NaN</td>\n",
       "      <td>S</td>\n",
       "    </tr>\n",
       "    <tr>\n",
       "      <th>3</th>\n",
       "      <td>4</td>\n",
       "      <td>1</td>\n",
       "      <td>1</td>\n",
       "      <td>Futrelle, Mrs. Jacques Heath (Lily May Peel)</td>\n",
       "      <td>female</td>\n",
       "      <td>35.0</td>\n",
       "      <td>1</td>\n",
       "      <td>0</td>\n",
       "      <td>113803</td>\n",
       "      <td>53.1000</td>\n",
       "      <td>C123</td>\n",
       "      <td>S</td>\n",
       "    </tr>\n",
       "    <tr>\n",
       "      <th>4</th>\n",
       "      <td>5</td>\n",
       "      <td>0</td>\n",
       "      <td>3</td>\n",
       "      <td>Allen, Mr. William Henry</td>\n",
       "      <td>male</td>\n",
       "      <td>35.0</td>\n",
       "      <td>0</td>\n",
       "      <td>0</td>\n",
       "      <td>373450</td>\n",
       "      <td>8.0500</td>\n",
       "      <td>NaN</td>\n",
       "      <td>S</td>\n",
       "    </tr>\n",
       "  </tbody>\n",
       "</table>\n",
       "</div>"
      ],
      "text/plain": [
       "   PassengerId  Survived  Pclass  \\\n",
       "0            1         0       3   \n",
       "1            2         1       1   \n",
       "2            3         1       3   \n",
       "3            4         1       1   \n",
       "4            5         0       3   \n",
       "\n",
       "                                                Name     Sex   Age  SibSp  \\\n",
       "0                            Braund, Mr. Owen Harris    male  22.0      1   \n",
       "1  Cumings, Mrs. John Bradley (Florence Briggs Th...  female  38.0      1   \n",
       "2                             Heikkinen, Miss. Laina  female  26.0      0   \n",
       "3       Futrelle, Mrs. Jacques Heath (Lily May Peel)  female  35.0      1   \n",
       "4                           Allen, Mr. William Henry    male  35.0      0   \n",
       "\n",
       "   Parch            Ticket     Fare Cabin Embarked  \n",
       "0      0         A/5 21171   7.2500   NaN        S  \n",
       "1      0          PC 17599  71.2833   C85        C  \n",
       "2      0  STON/O2. 3101282   7.9250   NaN        S  \n",
       "3      0            113803  53.1000  C123        S  \n",
       "4      0            373450   8.0500   NaN        S  "
      ]
     },
     "execution_count": 4,
     "metadata": {},
     "output_type": "execute_result"
    }
   ],
   "source": [
    "titanic.head()"
   ]
  },
  {
   "cell_type": "code",
   "execution_count": 5,
   "id": "ccb08821-c460-4555-962f-a302717c8550",
   "metadata": {},
   "outputs": [
    {
     "data": {
      "text/html": [
       "<div>\n",
       "<style scoped>\n",
       "    .dataframe tbody tr th:only-of-type {\n",
       "        vertical-align: middle;\n",
       "    }\n",
       "\n",
       "    .dataframe tbody tr th {\n",
       "        vertical-align: top;\n",
       "    }\n",
       "\n",
       "    .dataframe thead th {\n",
       "        text-align: right;\n",
       "    }\n",
       "</style>\n",
       "<table border=\"1\" class=\"dataframe\">\n",
       "  <thead>\n",
       "    <tr style=\"text-align: right;\">\n",
       "      <th></th>\n",
       "      <th>PassengerId</th>\n",
       "      <th>Survived</th>\n",
       "      <th>Pclass</th>\n",
       "      <th>Age</th>\n",
       "      <th>SibSp</th>\n",
       "      <th>Parch</th>\n",
       "      <th>Fare</th>\n",
       "    </tr>\n",
       "  </thead>\n",
       "  <tbody>\n",
       "    <tr>\n",
       "      <th>count</th>\n",
       "      <td>891.000000</td>\n",
       "      <td>891.000000</td>\n",
       "      <td>891.000000</td>\n",
       "      <td>714.000000</td>\n",
       "      <td>891.000000</td>\n",
       "      <td>891.000000</td>\n",
       "      <td>891.000000</td>\n",
       "    </tr>\n",
       "    <tr>\n",
       "      <th>mean</th>\n",
       "      <td>446.000000</td>\n",
       "      <td>0.383838</td>\n",
       "      <td>2.308642</td>\n",
       "      <td>29.699118</td>\n",
       "      <td>0.523008</td>\n",
       "      <td>0.381594</td>\n",
       "      <td>32.204208</td>\n",
       "    </tr>\n",
       "    <tr>\n",
       "      <th>std</th>\n",
       "      <td>257.353842</td>\n",
       "      <td>0.486592</td>\n",
       "      <td>0.836071</td>\n",
       "      <td>14.526497</td>\n",
       "      <td>1.102743</td>\n",
       "      <td>0.806057</td>\n",
       "      <td>49.693429</td>\n",
       "    </tr>\n",
       "    <tr>\n",
       "      <th>min</th>\n",
       "      <td>1.000000</td>\n",
       "      <td>0.000000</td>\n",
       "      <td>1.000000</td>\n",
       "      <td>0.420000</td>\n",
       "      <td>0.000000</td>\n",
       "      <td>0.000000</td>\n",
       "      <td>0.000000</td>\n",
       "    </tr>\n",
       "    <tr>\n",
       "      <th>25%</th>\n",
       "      <td>223.500000</td>\n",
       "      <td>0.000000</td>\n",
       "      <td>2.000000</td>\n",
       "      <td>20.125000</td>\n",
       "      <td>0.000000</td>\n",
       "      <td>0.000000</td>\n",
       "      <td>7.910400</td>\n",
       "    </tr>\n",
       "    <tr>\n",
       "      <th>50%</th>\n",
       "      <td>446.000000</td>\n",
       "      <td>0.000000</td>\n",
       "      <td>3.000000</td>\n",
       "      <td>28.000000</td>\n",
       "      <td>0.000000</td>\n",
       "      <td>0.000000</td>\n",
       "      <td>14.454200</td>\n",
       "    </tr>\n",
       "    <tr>\n",
       "      <th>75%</th>\n",
       "      <td>668.500000</td>\n",
       "      <td>1.000000</td>\n",
       "      <td>3.000000</td>\n",
       "      <td>38.000000</td>\n",
       "      <td>1.000000</td>\n",
       "      <td>0.000000</td>\n",
       "      <td>31.000000</td>\n",
       "    </tr>\n",
       "    <tr>\n",
       "      <th>max</th>\n",
       "      <td>891.000000</td>\n",
       "      <td>1.000000</td>\n",
       "      <td>3.000000</td>\n",
       "      <td>80.000000</td>\n",
       "      <td>8.000000</td>\n",
       "      <td>6.000000</td>\n",
       "      <td>512.329200</td>\n",
       "    </tr>\n",
       "  </tbody>\n",
       "</table>\n",
       "</div>"
      ],
      "text/plain": [
       "       PassengerId    Survived      Pclass         Age       SibSp  \\\n",
       "count   891.000000  891.000000  891.000000  714.000000  891.000000   \n",
       "mean    446.000000    0.383838    2.308642   29.699118    0.523008   \n",
       "std     257.353842    0.486592    0.836071   14.526497    1.102743   \n",
       "min       1.000000    0.000000    1.000000    0.420000    0.000000   \n",
       "25%     223.500000    0.000000    2.000000   20.125000    0.000000   \n",
       "50%     446.000000    0.000000    3.000000   28.000000    0.000000   \n",
       "75%     668.500000    1.000000    3.000000   38.000000    1.000000   \n",
       "max     891.000000    1.000000    3.000000   80.000000    8.000000   \n",
       "\n",
       "            Parch        Fare  \n",
       "count  891.000000  891.000000  \n",
       "mean     0.381594   32.204208  \n",
       "std      0.806057   49.693429  \n",
       "min      0.000000    0.000000  \n",
       "25%      0.000000    7.910400  \n",
       "50%      0.000000   14.454200  \n",
       "75%      0.000000   31.000000  \n",
       "max      6.000000  512.329200  "
      ]
     },
     "execution_count": 5,
     "metadata": {},
     "output_type": "execute_result"
    }
   ],
   "source": [
    "titanic.describe()"
   ]
  },
  {
   "cell_type": "markdown",
   "id": "b40a5f0b-8f48-4266-9954-42d94b5f9883",
   "metadata": {},
   "source": [
    "# 2. Data preparation\n",
    "\n",
    "----"
   ]
  },
  {
   "cell_type": "markdown",
   "id": "9f616eb6-72d4-4741-8a45-44df3ec31388",
   "metadata": {},
   "source": [
    "## 2.1 Drop unused columns"
   ]
  },
  {
   "cell_type": "code",
   "execution_count": 6,
   "id": "b6534821-e75d-4370-9e85-db02c072f0c7",
   "metadata": {},
   "outputs": [],
   "source": [
    "titanic = titanic.drop(columns = [\"Name\", \"Ticket\"])"
   ]
  },
  {
   "cell_type": "markdown",
   "id": "83f4065f-f9b5-45c8-aac9-3d342dca9e27",
   "metadata": {},
   "source": [
    "## 2.2 NaN value handling"
   ]
  },
  {
   "cell_type": "code",
   "execution_count": 7,
   "id": "88d76a5b-4a16-469f-900a-e0177fa2c73f",
   "metadata": {},
   "outputs": [],
   "source": [
    "# Cabin column\n",
    "titanic['Cabin'] = titanic['Cabin'].fillna(\"NONE\")"
   ]
  },
  {
   "cell_type": "code",
   "execution_count": 8,
   "id": "313262d7-b6bd-434f-a99d-9f9f1bd8c3ad",
   "metadata": {},
   "outputs": [],
   "source": [
    "# Age column -- fill all NA values with the average age of all passengers\n",
    "titanic['Age'] = titanic['Age'].fillna(titanic[\"Age\"].mean())"
   ]
  },
  {
   "cell_type": "markdown",
   "id": "b79f6f1f-436e-4c7f-b3c8-1401b2b31751",
   "metadata": {},
   "source": [
    "# 3. Feature engineering\n",
    "\n",
    "----"
   ]
  },
  {
   "cell_type": "markdown",
   "id": "7a594e45-f041-471c-817a-d37e642186c0",
   "metadata": {},
   "source": [
    "## 3.1 Utility functions"
   ]
  },
  {
   "cell_type": "code",
   "execution_count": 9,
   "id": "bdf2826a-be48-4a55-9cf8-6c3667255507",
   "metadata": {},
   "outputs": [],
   "source": [
    "def removeNumbers(string):\n",
    "    return (''.join([i for i in string if not i.isdigit()]))[0]"
   ]
  },
  {
   "cell_type": "markdown",
   "id": "d45dcfdc-2554-445d-ba42-9c5ca7403ba2",
   "metadata": {},
   "source": [
    "## 3.2 Dummy variables"
   ]
  },
  {
   "cell_type": "markdown",
   "id": "b6f281a9-c1cb-442a-b725-04d98ef44d4f",
   "metadata": {},
   "source": [
    "Given the nature and makeup of the data, we will next create dummy variables for:\n",
    "\n",
    "- Pclass\n",
    "- Sex\n",
    "- Cabin (specifically the level)\n",
    "- Embarked"
   ]
  },
  {
   "cell_type": "code",
   "execution_count": 10,
   "id": "4aa96cba-e787-46a5-b66b-e429dbb6194a",
   "metadata": {},
   "outputs": [],
   "source": [
    "# PCLASS\n",
    "pclass_df = pd.get_dummies(titanic['Pclass'], drop_first=False, dummy_na=True)\n",
    "pclass_df.columns = ['FirstClass', 'SecondClass', 'ThirdClass', 'NoClass']\n",
    "titanic = pd.concat([titanic, pclass_df], axis=1)"
   ]
  },
  {
   "cell_type": "code",
   "execution_count": 11,
   "id": "593ab078-234f-4b44-9dd8-d91a91e83adc",
   "metadata": {},
   "outputs": [],
   "source": [
    "# SEX\n",
    "sex_df = pd.get_dummies(titanic['Sex'], drop_first=False, dummy_na=True)\n",
    "sex_df.columns = ['Female', 'Male', 'UnknownSex']\n",
    "titanic = pd.concat([titanic, sex_df], axis=1)"
   ]
  },
  {
   "cell_type": "code",
   "execution_count": 12,
   "id": "ca824072-cf20-4d66-bc30-76b31a96b0b5",
   "metadata": {},
   "outputs": [],
   "source": [
    "# CABIN\n",
    "titanic['Cabin'] = titanic['Cabin'].apply(removeNumbers)\n",
    "cabin_df = pd.get_dummies(titanic['Cabin'], drop_first=False, dummy_na=True)\n",
    "#cabin_df.columns = ['CabinA', 'CabinB', 'CabinC', 'CabinD', 'CabinE', 'CabinF', 'CabinG', 'CabinN', 'CabinT', 'NoCabin']\n",
    "titanic = pd.concat([titanic, cabin_df], axis=1)"
   ]
  },
  {
   "cell_type": "code",
   "execution_count": 13,
   "id": "287aaa6d-e56c-48e6-9911-270801ae61ca",
   "metadata": {},
   "outputs": [],
   "source": [
    "# Embarked\n",
    "embarked_df = pd.get_dummies(titanic['Embarked'], drop_first=False, dummy_na=True)\n",
    "embarked_df.columns = ['EmbarkedC', 'EmbarkedQ', 'EmbarkedS', 'EmbarkedNA']\n",
    "titanic = pd.concat([titanic, embarked_df], axis=1)"
   ]
  },
  {
   "cell_type": "code",
   "execution_count": 14,
   "id": "15827fa8-0dac-402a-98ab-6d3aa33cf969",
   "metadata": {},
   "outputs": [],
   "source": [
    "# Get total number of contacts on boat\n",
    "titanic['NumContacts'] = titanic['Parch'] + titanic['SibSp']"
   ]
  },
  {
   "cell_type": "code",
   "execution_count": 15,
   "id": "f09f6f49-3d68-4597-a248-2dfa31123731",
   "metadata": {},
   "outputs": [],
   "source": [
    "# Drop orignal columns\n",
    "ids = titanic['PassengerId']\n",
    "titanic = titanic.drop(columns = ['PassengerId', 'Pclass', 'Sex', 'Cabin', 'Embarked', 'Parch', 'SibSp'])"
   ]
  },
  {
   "cell_type": "code",
   "execution_count": 16,
   "id": "edd4afd9-08bf-4206-aacd-2794d341b53c",
   "metadata": {},
   "outputs": [],
   "source": [
    "titanic['Fare'] = titanic['Fare'].fillna(titanic['Fare'].mean())"
   ]
  },
  {
   "cell_type": "markdown",
   "id": "421dd474-6b57-46f9-a410-c25a1cf02368",
   "metadata": {},
   "source": [
    "# 4. Modeling\n",
    "\n",
    "----"
   ]
  },
  {
   "cell_type": "markdown",
   "id": "1ec2c45e-7fd8-466e-a2e1-9a79980a8d3c",
   "metadata": {},
   "source": [
    "## 4.1 Functions and data handling"
   ]
  },
  {
   "cell_type": "code",
   "execution_count": 17,
   "id": "557ef6b3-05ef-492c-819b-6263fdaaa00f",
   "metadata": {},
   "outputs": [],
   "source": [
    "def rfe_selection(model, data):\n",
    "    # Assign data-related variables\n",
    "    features = ['Age', 'Fare', 'FirstClass', 'SecondClass', 'ThirdClass', 'NoClass', 'Female', 'Male', 'UnknownSex', 'CabinA', 'CabinB', 'CabinC', 'CabinD', 'CabinE', 'CabinF', 'CabinG', 'CabinN', 'CabinT', 'NoCabin', 'EmbarkedC', 'EmbarkedQ' , 'EmbarkedS', 'EmbarkedNA', 'NumContacts']\n",
    "    df_vals = data.values\n",
    "\n",
    "    # Identify the column names of the features\n",
    "    inputs = df_vals[:,0:len(features)-1]\n",
    "    response_variable = df_vals[:,len(features)-1]\n",
    "\n",
    "    # Feature extraction\n",
    "    #dt_classifier = DecisionTreeClassifier(max_depth = 5)\n",
    "    rfe = RFE(model, step = 3)\n",
    "    fit = rfe.fit(inputs, response_variable)\n",
    "\n",
    "    # Create list with the target feature names\n",
    "    selected_features = list(np.array(features[:-1])[np.array(fit.support_)])\n",
    "    \n",
    "    # Return a list containing the column names of the most relevant features\n",
    "    return selected_features"
   ]
  },
  {
   "cell_type": "code",
   "execution_count": 18,
   "id": "5a60cc46-701f-4ea6-b7ac-ce29d27613e7",
   "metadata": {},
   "outputs": [],
   "source": [
    "# Split data before evaluation for consistency in results\n",
    "x = titanic.drop(columns = [\"Survived\"]) #Use columns identified above\n",
    "y = titanic[[\"Survived\"]]\n",
    "\n",
    "x_train, x_test, y_train, y_test = train_test_split(x, y, test_size=0.2, random_state=42)"
   ]
  },
  {
   "cell_type": "markdown",
   "id": "4d94b620-de46-4383-ada5-24ce3637eb7a",
   "metadata": {},
   "source": [
    "## 4.2 Decision Tree"
   ]
  },
  {
   "cell_type": "code",
   "execution_count": 19,
   "id": "338edcbc-a0dc-41f2-8865-73932fc0c320",
   "metadata": {},
   "outputs": [],
   "source": [
    "# Create empty lists\n",
    "depth_list = []\n",
    "model_error = []\n",
    "\n",
    "dt_x_test = x_test\n",
    "dt_y_test = y_test\n",
    "dt_y_train = y_train\n",
    "dt_x_train = x_train\n",
    "\n",
    "# Loop through each depth\n",
    "for d in range(2,11):\n",
    "    # Append the depth to the list\n",
    "    depth_list.append(d)\n",
    "    \n",
    "    # Create model input lists\n",
    "    dt_selected_features = rfe_selection(model = DecisionTreeClassifier(max_depth = d), data = titanic) #Find most relevant model inputs\n",
    "    \n",
    "    # Create and fit model\n",
    "    dt_classifier = DecisionTreeClassifier(max_depth = d)\n",
    "    dt_classifier = dt_classifier.fit(dt_x_train[titanic.columns.intersection(dt_selected_features)], dt_y_train)\n",
    "    \n",
    "    # Test model and log error\n",
    "    dt_y_pred = dt_classifier.predict(dt_x_test[titanic.columns.intersection(dt_selected_features)])\n",
    "    model_error.append(accuracy_score(dt_y_pred, dt_y_test))"
   ]
  },
  {
   "cell_type": "code",
   "execution_count": 20,
   "id": "5cb3ecce-bfe6-44eb-95f0-51256db5fcda",
   "metadata": {},
   "outputs": [
    {
     "data": {
      "text/plain": [
       "Text(0, 0.5, 'Accuracy')"
      ]
     },
     "execution_count": 20,
     "metadata": {},
     "output_type": "execute_result"
    },
    {
     "data": {
      "image/png": "[encoded data removed]",
      "text/plain": [
       "<Figure size 432x288 with 1 Axes>"
      ]
     },
     "metadata": {
      "needs_background": "light"
     },
     "output_type": "display_data"
    }
   ],
   "source": [
    "plt.plot(depth_list, model_error)\n",
    "plt.xlabel(\"Depth\")\n",
    "plt.ylabel(\"Accuracy\")"
   ]
  },
  {
   "cell_type": "code",
   "execution_count": 21,
   "id": "37027089-829b-4937-be02-cb3af0dbb7c4",
   "metadata": {
    "tags": []
   },
   "outputs": [],
   "source": [
    "# Identify most-relevant model features\n",
    "dt_selected_features = rfe_selection(model = DecisionTreeClassifier(max_depth = depth_list[model_error.index(max(model_error))]), data = titanic) #Find most relevant model inputs\n",
    "\n",
    "# Split the data into x and y\n",
    "dt_x = titanic[titanic.columns.intersection(dt_selected_features)] #Use columns identified above\n",
    "dt_y = titanic[[\"Survived\"]]"
   ]
  },
  {
   "cell_type": "code",
   "execution_count": 22,
   "id": "35109581-7be7-471c-b7d3-45c73e454480",
   "metadata": {},
   "outputs": [
    {
     "data": {
      "text/plain": [
       "['Fare',\n",
       " 'NoClass',\n",
       " 'Female',\n",
       " 'Male',\n",
       " 'UnknownSex',\n",
       " 'CabinC',\n",
       " 'CabinD',\n",
       " 'CabinE',\n",
       " 'CabinF',\n",
       " 'EmbarkedS',\n",
       " 'EmbarkedNA']"
      ]
     },
     "execution_count": 22,
     "metadata": {},
     "output_type": "execute_result"
    }
   ],
   "source": [
    "dt_selected_features"
   ]
  },
  {
   "cell_type": "code",
   "execution_count": 23,
   "id": "db828e27-fe61-4adc-8831-20f9cfa32b0c",
   "metadata": {},
   "outputs": [
    {
     "name": "stderr",
     "output_type": "stream",
     "text": [
      "/Library/Frameworks/Python.framework/Versions/3.10/lib/python3.10/site-packages/sklearn/utils/validation.py:1688: FutureWarning: Feature names only support names that are all strings. Got feature names with dtypes: ['float', 'str']. An error will be raised in 1.2.\n",
      "  warnings.warn(\n"
     ]
    }
   ],
   "source": [
    "# Create classifier with a depth equal to that of the lowest error\n",
    "dt_classifier = DecisionTreeClassifier(max_depth = depth_list[model_error.index(max(model_error))])\n",
    "\n",
    "# Fit the classifier with the training data\n",
    "dt_classifier = dt_classifier.fit(dt_x_train, dt_y_train)"
   ]
  },
  {
   "cell_type": "code",
   "execution_count": 24,
   "id": "c4ebbd89-3179-4186-a7d8-a9b8407b03a8",
   "metadata": {},
   "outputs": [
    {
     "name": "stderr",
     "output_type": "stream",
     "text": [
      "/Library/Frameworks/Python.framework/Versions/3.10/lib/python3.10/site-packages/sklearn/utils/validation.py:1688: FutureWarning: Feature names only support names that are all strings. Got feature names with dtypes: ['float', 'str']. An error will be raised in 1.2.\n",
      "  warnings.warn(\n"
     ]
    }
   ],
   "source": [
    "# Predict test data with classifier\n",
    "dt_y_pred_test = dt_classifier.predict(dt_x_test)"
   ]
  },
  {
   "cell_type": "code",
   "execution_count": 25,
   "id": "7d0eb502-b640-49f9-9a11-1b7360356c9e",
   "metadata": {},
   "outputs": [
    {
     "name": "stdout",
     "output_type": "stream",
     "text": [
      "              precision    recall  f1-score   support\n",
      "\n",
      "           0       0.82      0.86      0.84       105\n",
      "           1       0.78      0.73      0.76        74\n",
      "\n",
      "    accuracy                           0.80       179\n",
      "   macro avg       0.80      0.79      0.80       179\n",
      "weighted avg       0.80      0.80      0.80       179\n",
      "\n"
     ]
    }
   ],
   "source": [
    "# Classification report\n",
    "dt_class_report = classification_report(dt_y_test, dt_y_pred_test)\n",
    "print(dt_class_report)"
   ]
  },
  {
   "cell_type": "markdown",
   "id": "3dc93a35-ea76-4d5b-b74a-05f9711a9dd4",
   "metadata": {},
   "source": [
    "## 4.3 Logistic Regression"
   ]
  },
  {
   "cell_type": "code",
   "execution_count": 26,
   "id": "83654647-ec7a-473c-a6e0-135ce16e9ec2",
   "metadata": {},
   "outputs": [
    {
     "name": "stderr",
     "output_type": "stream",
     "text": [
      "/Library/Frameworks/Python.framework/Versions/3.10/lib/python3.10/site-packages/sklearn/utils/validation.py:1688: FutureWarning: Feature names only support names that are all strings. Got feature names with dtypes: ['float', 'str']. An error will be raised in 1.2.\n",
      "  warnings.warn(\n",
      "/Library/Frameworks/Python.framework/Versions/3.10/lib/python3.10/site-packages/sklearn/linear_model/_logistic.py:814: ConvergenceWarning: lbfgs failed to converge (status=1):\n",
      "STOP: TOTAL NO. of ITERATIONS REACHED LIMIT.\n",
      "\n",
      "Increase the number of iterations (max_iter) or scale the data as shown in:\n",
      "    https://scikit-learn.org/stable/modules/preprocessing.html\n",
      "Please also refer to the documentation for alternative solver options:\n",
      "    https://scikit-learn.org/stable/modules/linear_model.html#logistic-regression\n",
      "  n_iter_i = _check_optimize_result(\n",
      "/Library/Frameworks/Python.framework/Versions/3.10/lib/python3.10/site-packages/sklearn/utils/validation.py:1688: FutureWarning: Feature names only support names that are all strings. Got feature names with dtypes: ['float', 'str']. An error will be raised in 1.2.\n",
      "  warnings.warn(\n"
     ]
    }
   ],
   "source": [
    "lr_model = LogisticRegression().fit(x_train, np.ravel(y_train))\n",
    "lr_y_pred_test = lr_model.predict(x_test)"
   ]
  },
  {
   "cell_type": "code",
   "execution_count": 27,
   "id": "ff4bcfff-bcfb-44c6-a5ea-13a4aaca6b0a",
   "metadata": {},
   "outputs": [
    {
     "name": "stdout",
     "output_type": "stream",
     "text": [
      "              precision    recall  f1-score   support\n",
      "\n",
      "           0       0.82      0.85      0.84       105\n",
      "           1       0.77      0.74      0.76        74\n",
      "\n",
      "    accuracy                           0.80       179\n",
      "   macro avg       0.80      0.80      0.80       179\n",
      "weighted avg       0.80      0.80      0.80       179\n",
      "\n"
     ]
    }
   ],
   "source": [
    "lr_class_report = classification_report(y_test, lr_y_pred_test)\n",
    "print(lr_class_report)"
   ]
  },
  {
   "cell_type": "markdown",
   "id": "a1101a66-ffd7-47a1-aa81-82b139d19605",
   "metadata": {},
   "source": [
    "# 5. Competition predictions\n",
    "---"
   ]
  },
  {
   "cell_type": "code",
   "execution_count": 28,
   "id": "65f4d534-32cb-43f4-8074-0c61abdeca73",
   "metadata": {},
   "outputs": [],
   "source": [
    "# VALIDATION SET\n",
    "prediction_set = pd.read_csv(f\"{data_path}test.csv\")"
   ]
  },
  {
   "cell_type": "code",
   "execution_count": 29,
   "id": "2ba68fe2-afce-4857-8687-ea2170372c9e",
   "metadata": {},
   "outputs": [
    {
     "data": {
      "text/html": [
       "<div>\n",
       "<style scoped>\n",
       "    .dataframe tbody tr th:only-of-type {\n",
       "        vertical-align: middle;\n",
       "    }\n",
       "\n",
       "    .dataframe tbody tr th {\n",
       "        vertical-align: top;\n",
       "    }\n",
       "\n",
       "    .dataframe thead th {\n",
       "        text-align: right;\n",
       "    }\n",
       "</style>\n",
       "<table border=\"1\" class=\"dataframe\">\n",
       "  <thead>\n",
       "    <tr style=\"text-align: right;\">\n",
       "      <th></th>\n",
       "      <th>PassengerId</th>\n",
       "      <th>Pclass</th>\n",
       "      <th>Name</th>\n",
       "      <th>Sex</th>\n",
       "      <th>Age</th>\n",
       "      <th>SibSp</th>\n",
       "      <th>Parch</th>\n",
       "      <th>Ticket</th>\n",
       "      <th>Fare</th>\n",
       "      <th>Cabin</th>\n",
       "      <th>Embarked</th>\n",
       "    </tr>\n",
       "  </thead>\n",
       "  <tbody>\n",
       "    <tr>\n",
       "      <th>0</th>\n",
       "      <td>892</td>\n",
       "      <td>3</td>\n",
       "      <td>Kelly, Mr. James</td>\n",
       "      <td>male</td>\n",
       "      <td>34.5</td>\n",
       "      <td>0</td>\n",
       "      <td>0</td>\n",
       "      <td>330911</td>\n",
       "      <td>7.8292</td>\n",
       "      <td>NaN</td>\n",
       "      <td>Q</td>\n",
       "    </tr>\n",
       "    <tr>\n",
       "      <th>1</th>\n",
       "      <td>893</td>\n",
       "      <td>3</td>\n",
       "      <td>Wilkes, Mrs. James (Ellen Needs)</td>\n",
       "      <td>female</td>\n",
       "      <td>47.0</td>\n",
       "      <td>1</td>\n",
       "      <td>0</td>\n",
       "      <td>363272</td>\n",
       "      <td>7.0000</td>\n",
       "      <td>NaN</td>\n",
       "      <td>S</td>\n",
       "    </tr>\n",
       "    <tr>\n",
       "      <th>2</th>\n",
       "      <td>894</td>\n",
       "      <td>2</td>\n",
       "      <td>Myles, Mr. Thomas Francis</td>\n",
       "      <td>male</td>\n",
       "      <td>62.0</td>\n",
       "      <td>0</td>\n",
       "      <td>0</td>\n",
       "      <td>240276</td>\n",
       "      <td>9.6875</td>\n",
       "      <td>NaN</td>\n",
       "      <td>Q</td>\n",
       "    </tr>\n",
       "    <tr>\n",
       "      <th>3</th>\n",
       "      <td>895</td>\n",
       "      <td>3</td>\n",
       "      <td>Wirz, Mr. Albert</td>\n",
       "      <td>male</td>\n",
       "      <td>27.0</td>\n",
       "      <td>0</td>\n",
       "      <td>0</td>\n",
       "      <td>315154</td>\n",
       "      <td>8.6625</td>\n",
       "      <td>NaN</td>\n",
       "      <td>S</td>\n",
       "    </tr>\n",
       "    <tr>\n",
       "      <th>4</th>\n",
       "      <td>896</td>\n",
       "      <td>3</td>\n",
       "      <td>Hirvonen, Mrs. Alexander (Helga E Lindqvist)</td>\n",
       "      <td>female</td>\n",
       "      <td>22.0</td>\n",
       "      <td>1</td>\n",
       "      <td>1</td>\n",
       "      <td>3101298</td>\n",
       "      <td>12.2875</td>\n",
       "      <td>NaN</td>\n",
       "      <td>S</td>\n",
       "    </tr>\n",
       "  </tbody>\n",
       "</table>\n",
       "</div>"
      ],
      "text/plain": [
       "   PassengerId  Pclass                                          Name     Sex  \\\n",
       "0          892       3                              Kelly, Mr. James    male   \n",
       "1          893       3              Wilkes, Mrs. James (Ellen Needs)  female   \n",
       "2          894       2                     Myles, Mr. Thomas Francis    male   \n",
       "3          895       3                              Wirz, Mr. Albert    male   \n",
       "4          896       3  Hirvonen, Mrs. Alexander (Helga E Lindqvist)  female   \n",
       "\n",
       "    Age  SibSp  Parch   Ticket     Fare Cabin Embarked  \n",
       "0  34.5      0      0   330911   7.8292   NaN        Q  \n",
       "1  47.0      1      0   363272   7.0000   NaN        S  \n",
       "2  62.0      0      0   240276   9.6875   NaN        Q  \n",
       "3  27.0      0      0   315154   8.6625   NaN        S  \n",
       "4  22.0      1      1  3101298  12.2875   NaN        S  "
      ]
     },
     "execution_count": 29,
     "metadata": {},
     "output_type": "execute_result"
    }
   ],
   "source": [
    "prediction_set.head()"
   ]
  },
  {
   "cell_type": "code",
   "execution_count": 30,
   "id": "e5018e10-af6e-4373-8f79-6d66e45a74c9",
   "metadata": {},
   "outputs": [],
   "source": [
    "pred_ids = prediction_set[\"PassengerId\"]"
   ]
  },
  {
   "cell_type": "code",
   "execution_count": 31,
   "id": "f5637812-dd42-44b1-a79b-da32d0e0dc25",
   "metadata": {},
   "outputs": [],
   "source": [
    "# Cabin column\n",
    "prediction_set['Cabin'] = prediction_set['Cabin'].fillna(\"NONE\")"
   ]
  },
  {
   "cell_type": "code",
   "execution_count": 32,
   "id": "9d54fe9f-04ff-41bc-969c-1ad859c5de24",
   "metadata": {},
   "outputs": [],
   "source": [
    "# Age column -- fill all NA values with the average age of all passengers\n",
    "prediction_set['Age'] = prediction_set['Age'].fillna(prediction_set[\"Age\"].mean())"
   ]
  },
  {
   "cell_type": "code",
   "execution_count": 33,
   "id": "c88abcae-d434-429f-b0bf-ad6a9664ca56",
   "metadata": {},
   "outputs": [],
   "source": [
    "prediction_set = prediction_set.drop(columns=[\"PassengerId\"])"
   ]
  },
  {
   "cell_type": "code",
   "execution_count": 34,
   "id": "b6b605f3-ba9c-4152-aaa7-9973bd75d58f",
   "metadata": {},
   "outputs": [],
   "source": [
    "# PCLASS\n",
    "pclass_df = pd.get_dummies(prediction_set['Pclass'], drop_first=False, dummy_na=True)\n",
    "pclass_df.columns = ['FirstClass', 'SecondClass', 'ThirdClass', 'NoClass']\n",
    "prediction_set = pd.concat([prediction_set, pclass_df], axis=1)"
   ]
  },
  {
   "cell_type": "code",
   "execution_count": 35,
   "id": "2e522778-b79b-43a4-a9d4-b9db2062da79",
   "metadata": {},
   "outputs": [],
   "source": [
    "# SEX\n",
    "sex_df = pd.get_dummies(prediction_set['Sex'], drop_first=False, dummy_na=True)\n",
    "sex_df.columns = ['Female', 'Male', 'UnknownSex']\n",
    "prediction_set = pd.concat([prediction_set, sex_df], axis=1)"
   ]
  },
  {
   "cell_type": "code",
   "execution_count": 36,
   "id": "e91e5fd8-8ae3-416b-bb41-1255ea2fdcb0",
   "metadata": {},
   "outputs": [],
   "source": [
    "# CABIN\n",
    "prediction_set['Cabin'] = prediction_set['Cabin'].apply(removeNumbers)\n",
    "cabin_df = pd.get_dummies(prediction_set['Cabin'], drop_first=False, dummy_na=True)\n",
    "#cabin_df.columns = ['CabinA', 'CabinB', 'CabinC', 'CabinD', 'CabinE', 'CabinF', 'CabinG', 'CabinN', 'CabinT', 'NoCabin']\n",
    "prediction_set = pd.concat([prediction_set, cabin_df], axis=1)"
   ]
  },
  {
   "cell_type": "code",
   "execution_count": 37,
   "id": "3ff69165-d5a5-4ca6-a3ff-75813deadfc2",
   "metadata": {},
   "outputs": [],
   "source": [
    "# Embarked\n",
    "embarked_df = pd.get_dummies(prediction_set['Embarked'], drop_first=False, dummy_na=True)\n",
    "embarked_df.columns = ['EmbarkedC', 'EmbarkedQ', 'EmbarkedS', 'EmbarkedNA']\n",
    "prediction_set = pd.concat([prediction_set, embarked_df], axis=1)"
   ]
  },
  {
   "cell_type": "code",
   "execution_count": 38,
   "id": "feaf3dc4-867c-4628-b4b4-ea6973d9a354",
   "metadata": {},
   "outputs": [],
   "source": [
    "# Get total number of contacts on boat\n",
    "prediction_set['NumContacts'] = prediction_set['Parch'] + prediction_set['SibSp']"
   ]
  },
  {
   "cell_type": "code",
   "execution_count": 39,
   "id": "629c701f-1527-4287-8758-a65ddd3a1d0d",
   "metadata": {},
   "outputs": [],
   "source": [
    "# Drop orignal columns\n",
    "prediction_set = prediction_set.drop(columns = ['Pclass', 'Sex', 'Cabin', 'Embarked', 'Parch', 'SibSp'])"
   ]
  },
  {
   "cell_type": "code",
   "execution_count": 40,
   "id": "c516fd4f-200d-4b1c-a3ca-726dd847bd0a",
   "metadata": {},
   "outputs": [],
   "source": [
    "prediction_set['Fare'] = prediction_set['Fare'].fillna(prediction_set['Fare'].mean())"
   ]
  },
  {
   "cell_type": "code",
   "execution_count": 41,
   "id": "1b7b7ed1-fc6d-41db-9888-c2df476caf00",
   "metadata": {},
   "outputs": [],
   "source": [
    "prediction_set = prediction_set.drop(columns = ['Ticket', 'Name'])"
   ]
  },
  {
   "cell_type": "code",
   "execution_count": 54,
   "id": "94c4a325-9ebf-4752-ba54-f64cb81c9c91",
   "metadata": {},
   "outputs": [],
   "source": [
    "prediction_set['T'] = 0"
   ]
  },
  {
   "cell_type": "code",
   "execution_count": 52,
   "id": "595501db-3f4e-4623-b06f-1ea8de4c208d",
   "metadata": {},
   "outputs": [
    {
     "data": {
      "text/html": [
       "<div>\n",
       "<style scoped>\n",
       "    .dataframe tbody tr th:only-of-type {\n",
       "        vertical-align: middle;\n",
       "    }\n",
       "\n",
       "    .dataframe tbody tr th {\n",
       "        vertical-align: top;\n",
       "    }\n",
       "\n",
       "    .dataframe thead th {\n",
       "        text-align: right;\n",
       "    }\n",
       "</style>\n",
       "<table border=\"1\" class=\"dataframe\">\n",
       "  <thead>\n",
       "    <tr style=\"text-align: right;\">\n",
       "      <th></th>\n",
       "      <th>Age</th>\n",
       "      <th>Fare</th>\n",
       "      <th>FirstClass</th>\n",
       "      <th>SecondClass</th>\n",
       "      <th>ThirdClass</th>\n",
       "      <th>NoClass</th>\n",
       "      <th>Female</th>\n",
       "      <th>Male</th>\n",
       "      <th>UnknownSex</th>\n",
       "      <th>A</th>\n",
       "      <th>B</th>\n",
       "      <th>C</th>\n",
       "      <th>D</th>\n",
       "      <th>E</th>\n",
       "      <th>F</th>\n",
       "      <th>G</th>\n",
       "      <th>N</th>\n",
       "      <th>T</th>\n",
       "      <th>NaN</th>\n",
       "      <th>EmbarkedC</th>\n",
       "      <th>EmbarkedQ</th>\n",
       "      <th>EmbarkedS</th>\n",
       "      <th>EmbarkedNA</th>\n",
       "      <th>NumContacts</th>\n",
       "    </tr>\n",
       "  </thead>\n",
       "  <tbody>\n",
       "    <tr>\n",
       "      <th>709</th>\n",
       "      <td>29.699118</td>\n",
       "      <td>15.2458</td>\n",
       "      <td>0</td>\n",
       "      <td>0</td>\n",
       "      <td>1</td>\n",
       "      <td>0</td>\n",
       "      <td>0</td>\n",
       "      <td>1</td>\n",
       "      <td>0</td>\n",
       "      <td>0</td>\n",
       "      <td>0</td>\n",
       "      <td>0</td>\n",
       "      <td>0</td>\n",
       "      <td>0</td>\n",
       "      <td>0</td>\n",
       "      <td>0</td>\n",
       "      <td>1</td>\n",
       "      <td>0</td>\n",
       "      <td>0</td>\n",
       "      <td>1</td>\n",
       "      <td>0</td>\n",
       "      <td>0</td>\n",
       "      <td>0</td>\n",
       "      <td>2</td>\n",
       "    </tr>\n",
       "  </tbody>\n",
       "</table>\n",
       "</div>"
      ],
      "text/plain": [
       "           Age     Fare  FirstClass  SecondClass  ThirdClass  NoClass  Female  \\\n",
       "709  29.699118  15.2458           0            0           1        0       0   \n",
       "\n",
       "     Male  UnknownSex  A  B  C  D  E  F  G  N  T  NaN  EmbarkedC  EmbarkedQ  \\\n",
       "709     1           0  0  0  0  0  0  0  0  1  0    0          1          0   \n",
       "\n",
       "     EmbarkedS  EmbarkedNA  NumContacts  \n",
       "709          0           0            2  "
      ]
     },
     "execution_count": 52,
     "metadata": {},
     "output_type": "execute_result"
    }
   ],
   "source": [
    "x_test.head(1)"
   ]
  },
  {
   "cell_type": "code",
   "execution_count": 46,
   "id": "3285bfdf-4984-4d63-b8bd-afb3106fafcf",
   "metadata": {},
   "outputs": [
    {
     "data": {
      "text/html": [
       "<div>\n",
       "<style scoped>\n",
       "    .dataframe tbody tr th:only-of-type {\n",
       "        vertical-align: middle;\n",
       "    }\n",
       "\n",
       "    .dataframe tbody tr th {\n",
       "        vertical-align: top;\n",
       "    }\n",
       "\n",
       "    .dataframe thead th {\n",
       "        text-align: right;\n",
       "    }\n",
       "</style>\n",
       "<table border=\"1\" class=\"dataframe\">\n",
       "  <thead>\n",
       "    <tr style=\"text-align: right;\">\n",
       "      <th></th>\n",
       "      <th>Survived</th>\n",
       "      <th>Age</th>\n",
       "      <th>Fare</th>\n",
       "      <th>FirstClass</th>\n",
       "      <th>SecondClass</th>\n",
       "      <th>ThirdClass</th>\n",
       "      <th>NoClass</th>\n",
       "      <th>Female</th>\n",
       "      <th>Male</th>\n",
       "      <th>UnknownSex</th>\n",
       "      <th>A</th>\n",
       "      <th>B</th>\n",
       "      <th>C</th>\n",
       "      <th>D</th>\n",
       "      <th>E</th>\n",
       "      <th>F</th>\n",
       "      <th>G</th>\n",
       "      <th>N</th>\n",
       "      <th>T</th>\n",
       "      <th>NaN</th>\n",
       "      <th>EmbarkedC</th>\n",
       "      <th>EmbarkedQ</th>\n",
       "      <th>EmbarkedS</th>\n",
       "      <th>EmbarkedNA</th>\n",
       "      <th>NumContacts</th>\n",
       "    </tr>\n",
       "  </thead>\n",
       "  <tbody>\n",
       "    <tr>\n",
       "      <th>0</th>\n",
       "      <td>0</td>\n",
       "      <td>22.0</td>\n",
       "      <td>7.25</td>\n",
       "      <td>0</td>\n",
       "      <td>0</td>\n",
       "      <td>1</td>\n",
       "      <td>0</td>\n",
       "      <td>0</td>\n",
       "      <td>1</td>\n",
       "      <td>0</td>\n",
       "      <td>0</td>\n",
       "      <td>0</td>\n",
       "      <td>0</td>\n",
       "      <td>0</td>\n",
       "      <td>0</td>\n",
       "      <td>0</td>\n",
       "      <td>0</td>\n",
       "      <td>1</td>\n",
       "      <td>0</td>\n",
       "      <td>0</td>\n",
       "      <td>0</td>\n",
       "      <td>0</td>\n",
       "      <td>1</td>\n",
       "      <td>0</td>\n",
       "      <td>1</td>\n",
       "    </tr>\n",
       "  </tbody>\n",
       "</table>\n",
       "</div>"
      ],
      "text/plain": [
       "   Survived   Age  Fare  FirstClass  SecondClass  ThirdClass  NoClass  Female  \\\n",
       "0         0  22.0  7.25           0            0           1        0       0   \n",
       "\n",
       "   Male  UnknownSex  A  B  C  D  E  F  G  N  T  NaN  EmbarkedC  EmbarkedQ  \\\n",
       "0     1           0  0  0  0  0  0  0  0  1  0    0          0          0   \n",
       "\n",
       "   EmbarkedS  EmbarkedNA  NumContacts  \n",
       "0          1           0            1  "
      ]
     },
     "execution_count": 46,
     "metadata": {},
     "output_type": "execute_result"
    }
   ],
   "source": [
    "titanic.head(1)"
   ]
  },
  {
   "cell_type": "code",
   "execution_count": 55,
   "id": "af00bcc8-28c6-4d30-9116-14e032ab0d1b",
   "metadata": {},
   "outputs": [
    {
     "name": "stderr",
     "output_type": "stream",
     "text": [
      "/Library/Frameworks/Python.framework/Versions/3.10/lib/python3.10/site-packages/sklearn/utils/validation.py:1688: FutureWarning: Feature names only support names that are all strings. Got feature names with dtypes: ['float', 'str']. An error will be raised in 1.2.\n",
      "  warnings.warn(\n"
     ]
    }
   ],
   "source": [
    "competition_predictions = lr_model.predict(prediction_set)"
   ]
  },
  {
   "cell_type": "code",
   "execution_count": 57,
   "id": "c9bd12fa-e1be-47af-8075-da04be5939d3",
   "metadata": {},
   "outputs": [],
   "source": [
    "submission = pd.DataFrame()\n",
    "submission['PassengerId'] = pred_ids\n",
    "submission['Survived'] = competition_predictions"
   ]
  },
  {
   "cell_type": "code",
   "execution_count": 59,
   "id": "c462736e-b0e6-4310-961c-bf4d2665e516",
   "metadata": {},
   "outputs": [],
   "source": [
    "submission.to_csv(\"titanic-submission.csv\", index=False)"
   ]
  }
 ],
 "metadata": {
  "kernelspec": {
   "display_name": "Python 3 (ipykernel)",
   "language": "python",
   "name": "python3"
  },
  "language_info": {
   "codemirror_mode": {
    "name": "ipython",
    "version": 3
   },
   "file_extension": ".py",
   "mimetype": "text/x-python",
   "name": "python",
   "nbconvert_exporter": "python",
   "pygments_lexer": "ipython3",
   "version": "3.10.1"
  }
 },
 "nbformat": 4,
 "nbformat_minor": 5
}
